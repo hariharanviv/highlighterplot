{
 "cells": [
  {
   "cell_type": "markdown",
   "metadata": {},
   "source": [
    "# Highlighter plot\n",
    "**Vivek Hariharan, 2024-01-09**\n",
    "\n",
    "This R script is used to compare a set of DNA sequences to a reference sequence and visualize the differences using a plot.\n",
    "\n",
    "For the sake of this Jupyter markdown, I will suppress all outputs, but example outputs can be found in the README.md file.\n",
    "\n",
    "First we will install and load the required packages."
   ]
  },
  {
   "cell_type": "code",
   "execution_count": null,
   "metadata": {
    "vscode": {
     "languageId": "r"
    }
   },
   "outputs": [],
   "source": [
    "# Install and load necessary packages\n",
    "if (!requireNamespace(\"BiocManager\", quietly = TRUE))\n",
    "  \n",
    "        install.packages(\"BiocManager\")\n",
    "BiocManager::install(\"Biostrings\")\n",
    "\n",
    "install.packages(\"ggplot2\")\n",
    "library(Biostrings)\n",
    "library(ggplot2)\n"
   ]
  },
  {
   "cell_type": "markdown",
   "metadata": {},
   "source": [
    "Next, we will read in the FASTA file, specify the reference sequence, and create a dataframe to store the information about each sequence.\n",
    "We will add a column to the dataframe representing the \"Type\". \n",
    "First, we will call any deletions.  \n",
    "Next we will retain any differences from the reference.\n",
    "Any matches to the reference will be called \"Match\"."
   ]
  },
  {
   "cell_type": "code",
   "execution_count": null,
   "metadata": {
    "vscode": {
     "languageId": "r"
    }
   },
   "outputs": [],
   "source": [
    "\n",
    "# Read the sequences from the FASTA file\n",
    "sequences <- readDNAStringSet(\"All484.fas\")\n",
    "\n",
    "# Specify the reference sequence\n",
    "ref_seq <- 3 #Change this to your actual sequence number\n",
    "reference_sequence <- sequences[ref_seq]\n",
    "\n",
    "# Create a data frame to store information about each position in each sequence\n",
    "plot_data <- do.call(rbind, lapply(1:length(sequences), function(i) {\n",
    "    df <- data.frame(\n",
    "        Sequence = i,\n",
    "        Position = 1:width(sequences[i]),\n",
    "        Nucleotide = strsplit(as.character(sequences[i]), '')[[1]],\n",
    "        Reference = strsplit(as.character(reference_sequence), '')[[1]]\n",
    "    )\n",
    "    \n",
    "    # If it's a deletion, label it as 'Deletion'\n",
    "    df$Type[df$Nucleotide == \"-\"] <- \"Deletion\"\n",
    "    \n",
    "    # If it's different from the reference, copy the difference\n",
    "    df$Type[df$Nucleotide != df$Reference & is.na(df$Type)] <- df$Nucleotide[df$Nucleotide != df$Reference & is.na(df$Type)]\n",
    "    \n",
    "    # If it's the same as the reference, label it as 'Match'\n",
    "    df$Type[is.na(df$Type)] <- \"Match\"\n",
    "    \n",
    "    return(df)\n",
    "}))\n"
   ]
  },
  {
   "cell_type": "markdown",
   "metadata": {},
   "source": [
    "Now that all the information in in the \"Type\" column of the dataframe, we are almost done.\n",
    "\n",
    "Next we change the \"Type\" of the reference sequence to \"Reference\".\n",
    "Then we will set the sequencing bounds. This is custom and based on the amplicon itself. This must be changed for every unique amplicon.\n",
    "\n"
   ]
  },
  {
   "cell_type": "code",
   "execution_count": null,
   "metadata": {
    "vscode": {
     "languageId": "r"
    }
   },
   "outputs": [],
   "source": [
    "\n",
    "#Make reference sequence plot_data$type be \"reference\"\n",
    "plot_data$Type[plot_data$Sequence == ref_seq] <- \"Reference\"\n",
    "\n",
    "#Set sequencing bounds for the data. In this case we are seq HXB2 coord 670-9690\n",
    "# For sequences 2-end, make the plot_data$type be \"notseq\" from nucleotides 1-670 and 9690-end\n",
    "plot_data$Type[plot_data$Sequence != 1 & plot_data$Position <= 670] <- \"notseq\"\n",
    "plot_data$Type[plot_data$Sequence != 1 & plot_data$Position >= 9690] <- \"notseq\"\n",
    "\n",
    "\n",
    "# Calculate the maximum position before plotting\n",
    "max_position <- max(plot_data$Position)\n",
    "max_length <- max(width(sequences))"
   ]
  },
  {
   "cell_type": "markdown",
   "metadata": {},
   "source": [
    "Last is plotting.\n",
    "Currently the plot is using  \n",
    "```{r} \n",
    "geom_tile() \n",
    "``````\n",
    "\n",
    "function from ggplot2, which plots each sequence as a collection of N tiles, where N is the number of bases in the sequence.\n"
   ]
  },
  {
   "cell_type": "code",
   "execution_count": null,
   "metadata": {
    "vscode": {
     "languageId": "r"
    }
   },
   "outputs": [],
   "source": [
    "# Create the plot\n",
    "p <- ggplot(plot_data, aes(x = Position, y = as.numeric(Sequence), fill = Type)) +\n",
    "    # Lines that go across each sequence\n",
    "    annotate(\"segment\",\n",
    "        x = rep(0, length(sequences)),\n",
    "        xend = rep(max_position, length(sequences)),\n",
    "        y = 1:length(sequences),\n",
    "        yend = 1:length(sequences),\n",
    "        color = \"gray\",\n",
    "        size = 0.2,\n",
    "        alpha = 0.4) +\n",
    "    geom_tile(height = 0.8) +\n",
    "    #scale_x_continuous(breaks = seq(1, max_position, 1000)) +\n",
    "    scale_y_reverse(breaks = seq(1, length(sequences), 10)) +\n",
    "    scale_fill_manual(values = c(\n",
    "        \"T\" = \"red\",\n",
    "        \"A\" = \"green\",\n",
    "        \"C\" = \"blue\",\n",
    "        \"G\" = \"black\", \n",
    "        \"Match\" = rgb(0, 0, 0, 0),\n",
    "        \"Deletion\" = \"gray\",\n",
    "        \"notseq\" = rgb(0, 0, 0, 0),\n",
    "        \"Reference\" = rgb(0, 0, 0, 0)),\n",
    "        breaks = c(\"T\", \"A\", \"C\", \"G\", \"Deletion\", \"Reference\")) +\n",
    "    theme_minimal() +\n",
    "    theme(panel.grid.major = element_blank(), panel.grid.minor = element_blank()) + # Remove grid lines  \n",
    "    ylab('Sequence') +\n",
    "    xlab('Position (HXB2 Coordinates)') +\n",
    "    ggtitle('Highlighter Plot') +\n",
    "    theme(panel.border = element_rect(colour = \"black\", fill=NA, linewidth=0.5)) +\n",
    "    theme(axis.text.y = element_text(angle = 0, color = \"black\"), # Change Y axis text\n",
    "          axis.text.x = element_text(color = \"black\")) + # Change X axis text\n",
    "    theme(axis.text.y = element_text(angle = 0)) +\n",
    "    theme(axis.ticks = element_line(color = \"black\"))\n",
    "\n",
    "# Save the plot as a PDF file with 600dpi\n",
    "ggsave(\"highlighter_plot.png\", plot = p, device = \"png\", dpi = 600)\n"
   ]
  }
 ],
 "metadata": {
  "kernelspec": {
   "display_name": "R",
   "language": "R",
   "name": "ir"
  },
  "language_info": {
   "codemirror_mode": "r",
   "file_extension": ".r",
   "mimetype": "text/x-r-source",
   "name": "R",
   "pygments_lexer": "r",
   "version": "4.3.1"
  }
 },
 "nbformat": 4,
 "nbformat_minor": 2
}
